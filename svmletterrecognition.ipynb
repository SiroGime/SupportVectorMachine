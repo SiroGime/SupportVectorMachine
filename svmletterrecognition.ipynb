{
 "cells": [
  {
   "cell_type": "markdown",
   "id": "0a7bada8",
   "metadata": {
    "papermill": {
     "duration": 0.01236,
     "end_time": "2023-06-16T16:42:48.053349",
     "exception": false,
     "start_time": "2023-06-16T16:42:48.040989",
     "status": "completed"
    },
    "tags": []
   },
   "source": [
    "## Formulación del problema.\n",
    "\n",
    "To solve an interesting letter recognition problem using SVMs. It contains the 26 English alphabets as classes, so it's a multiclass classification problem with 26 classes.\n",
    "\n",
    "Each row in the data set represents an image of a handwritten alphabet. Using some basic image processing, the images are converted into m X n pixels, where m and n depend on the size and resolution of the original image. Each pixel contains numeric values, with higher values denoting the presence of dense 'ink'. In the pixels where nothing is written, the pixel value is 0.\n",
    "\n",
    "A pixel is called 'on' if it contains to a positive numeric value, else it is called 'off'.\n",
    "\n",
    "Using the pixelated images, 16 features are derived for each image, such as the width of the box, the ratio of the mean variance of x divided by the width of the box, etc."
   ]
  },
  {
   "cell_type": "markdown",
   "id": "abbd887a",
   "metadata": {
    "papermill": {
     "duration": 0.009045,
     "end_time": "2023-06-16T16:42:48.072038",
     "exception": false,
     "start_time": "2023-06-16T16:42:48.062993",
     "status": "completed"
    },
    "tags": []
   },
   "source": [
    "## Recolección de datos.\n",
    "* #### Link: https://www.kaggle.com/datasets/nishan192/letterrecognition-using-svm"
   ]
  },
  {
   "cell_type": "code",
   "execution_count": 1,
   "id": "4c39532d",
   "metadata": {
    "execution": {
     "iopub.execute_input": "2023-06-16T16:42:48.092940Z",
     "iopub.status.busy": "2023-06-16T16:42:48.092420Z",
     "iopub.status.idle": "2023-06-16T16:42:48.113372Z",
     "shell.execute_reply": "2023-06-16T16:42:48.112207Z"
    },
    "papermill": {
     "duration": 0.034915,
     "end_time": "2023-06-16T16:42:48.116384",
     "exception": false,
     "start_time": "2023-06-16T16:42:48.081469",
     "status": "completed"
    },
    "tags": []
   },
   "outputs": [
    {
     "name": "stdout",
     "output_type": "stream",
     "text": [
      "/kaggle/input/letterrecognition-using-svm/letter-recognition.csv\n"
     ]
    }
   ],
   "source": [
    "import numpy as np\n",
    "import pandas as pd \n",
    "\n",
    "import os\n",
    "for dirname, _, filenames in os.walk('/kaggle/input'):\n",
    "    for filename in filenames:\n",
    "        print(os.path.join(dirname, filename))"
   ]
  },
  {
   "cell_type": "markdown",
   "id": "28504515",
   "metadata": {
    "papermill": {
     "duration": 0.00936,
     "end_time": "2023-06-16T16:42:48.135468",
     "exception": false,
     "start_time": "2023-06-16T16:42:48.126108",
     "status": "completed"
    },
    "tags": []
   },
   "source": [
    "## Análisis Exploratorio (básico)."
   ]
  },
  {
   "cell_type": "code",
   "execution_count": 2,
   "id": "949fbbb6",
   "metadata": {
    "execution": {
     "iopub.execute_input": "2023-06-16T16:42:48.156971Z",
     "iopub.status.busy": "2023-06-16T16:42:48.156341Z",
     "iopub.status.idle": "2023-06-16T16:42:48.245253Z",
     "shell.execute_reply": "2023-06-16T16:42:48.244399Z"
    },
    "papermill": {
     "duration": 0.102107,
     "end_time": "2023-06-16T16:42:48.247531",
     "exception": false,
     "start_time": "2023-06-16T16:42:48.145424",
     "status": "completed"
    },
    "tags": []
   },
   "outputs": [
    {
     "data": {
      "text/html": [
       "<div>\n",
       "<style scoped>\n",
       "    .dataframe tbody tr th:only-of-type {\n",
       "        vertical-align: middle;\n",
       "    }\n",
       "\n",
       "    .dataframe tbody tr th {\n",
       "        vertical-align: top;\n",
       "    }\n",
       "\n",
       "    .dataframe thead th {\n",
       "        text-align: right;\n",
       "    }\n",
       "</style>\n",
       "<table border=\"1\" class=\"dataframe\">\n",
       "  <thead>\n",
       "    <tr style=\"text-align: right;\">\n",
       "      <th></th>\n",
       "      <th>letter</th>\n",
       "      <th>xbox</th>\n",
       "      <th>ybox</th>\n",
       "      <th>width</th>\n",
       "      <th>height</th>\n",
       "      <th>onpix</th>\n",
       "      <th>xbar</th>\n",
       "      <th>ybar</th>\n",
       "      <th>x2bar</th>\n",
       "      <th>y2bar</th>\n",
       "      <th>xybar</th>\n",
       "      <th>x2ybar</th>\n",
       "      <th>xy2bar</th>\n",
       "      <th>xedge</th>\n",
       "      <th>xedgey</th>\n",
       "      <th>yedge</th>\n",
       "      <th>yedgex</th>\n",
       "    </tr>\n",
       "  </thead>\n",
       "  <tbody>\n",
       "    <tr>\n",
       "      <th>0</th>\n",
       "      <td>T</td>\n",
       "      <td>2</td>\n",
       "      <td>8</td>\n",
       "      <td>3</td>\n",
       "      <td>5</td>\n",
       "      <td>1</td>\n",
       "      <td>8</td>\n",
       "      <td>13</td>\n",
       "      <td>0</td>\n",
       "      <td>6</td>\n",
       "      <td>6</td>\n",
       "      <td>10</td>\n",
       "      <td>8</td>\n",
       "      <td>0</td>\n",
       "      <td>8</td>\n",
       "      <td>0</td>\n",
       "      <td>8</td>\n",
       "    </tr>\n",
       "    <tr>\n",
       "      <th>1</th>\n",
       "      <td>I</td>\n",
       "      <td>5</td>\n",
       "      <td>12</td>\n",
       "      <td>3</td>\n",
       "      <td>7</td>\n",
       "      <td>2</td>\n",
       "      <td>10</td>\n",
       "      <td>5</td>\n",
       "      <td>5</td>\n",
       "      <td>4</td>\n",
       "      <td>13</td>\n",
       "      <td>3</td>\n",
       "      <td>9</td>\n",
       "      <td>2</td>\n",
       "      <td>8</td>\n",
       "      <td>4</td>\n",
       "      <td>10</td>\n",
       "    </tr>\n",
       "    <tr>\n",
       "      <th>2</th>\n",
       "      <td>D</td>\n",
       "      <td>4</td>\n",
       "      <td>11</td>\n",
       "      <td>6</td>\n",
       "      <td>8</td>\n",
       "      <td>6</td>\n",
       "      <td>10</td>\n",
       "      <td>6</td>\n",
       "      <td>2</td>\n",
       "      <td>6</td>\n",
       "      <td>10</td>\n",
       "      <td>3</td>\n",
       "      <td>7</td>\n",
       "      <td>3</td>\n",
       "      <td>7</td>\n",
       "      <td>3</td>\n",
       "      <td>9</td>\n",
       "    </tr>\n",
       "    <tr>\n",
       "      <th>3</th>\n",
       "      <td>N</td>\n",
       "      <td>7</td>\n",
       "      <td>11</td>\n",
       "      <td>6</td>\n",
       "      <td>6</td>\n",
       "      <td>3</td>\n",
       "      <td>5</td>\n",
       "      <td>9</td>\n",
       "      <td>4</td>\n",
       "      <td>6</td>\n",
       "      <td>4</td>\n",
       "      <td>4</td>\n",
       "      <td>10</td>\n",
       "      <td>6</td>\n",
       "      <td>10</td>\n",
       "      <td>2</td>\n",
       "      <td>8</td>\n",
       "    </tr>\n",
       "    <tr>\n",
       "      <th>4</th>\n",
       "      <td>G</td>\n",
       "      <td>2</td>\n",
       "      <td>1</td>\n",
       "      <td>3</td>\n",
       "      <td>1</td>\n",
       "      <td>1</td>\n",
       "      <td>8</td>\n",
       "      <td>6</td>\n",
       "      <td>6</td>\n",
       "      <td>6</td>\n",
       "      <td>6</td>\n",
       "      <td>5</td>\n",
       "      <td>9</td>\n",
       "      <td>1</td>\n",
       "      <td>7</td>\n",
       "      <td>5</td>\n",
       "      <td>10</td>\n",
       "    </tr>\n",
       "  </tbody>\n",
       "</table>\n",
       "</div>"
      ],
      "text/plain": [
       "  letter  xbox   ybox   width   height  onpix   xbar   ybar   x2bar  y2bar   \\\n",
       "0      T      2      8       3       5       1      8     13      0       6   \n",
       "1      I      5     12       3       7       2     10      5      5       4   \n",
       "2      D      4     11       6       8       6     10      6      2       6   \n",
       "3      N      7     11       6       6       3      5      9      4       6   \n",
       "4      G      2      1       3       1       1      8      6      6       6   \n",
       "\n",
       "   xybar   x2ybar  xy2bar  xedge   xedgey  yedge   yedgex  \n",
       "0       6      10       8       0       8       0       8  \n",
       "1      13       3       9       2       8       4      10  \n",
       "2      10       3       7       3       7       3       9  \n",
       "3       4       4      10       6      10       2       8  \n",
       "4       6       5       9       1       7       5      10  "
      ]
     },
     "execution_count": 2,
     "metadata": {},
     "output_type": "execute_result"
    }
   ],
   "source": [
    "data = pd.read_csv(\"/kaggle/input/letterrecognition-using-svm/letter-recognition.csv\")\n",
    "data.head()"
   ]
  },
  {
   "cell_type": "code",
   "execution_count": 3,
   "id": "b84efc74",
   "metadata": {
    "execution": {
     "iopub.execute_input": "2023-06-16T16:42:48.269163Z",
     "iopub.status.busy": "2023-06-16T16:42:48.268777Z",
     "iopub.status.idle": "2023-06-16T16:42:48.276475Z",
     "shell.execute_reply": "2023-06-16T16:42:48.275361Z"
    },
    "papermill": {
     "duration": 0.021254,
     "end_time": "2023-06-16T16:42:48.278828",
     "exception": false,
     "start_time": "2023-06-16T16:42:48.257574",
     "status": "completed"
    },
    "tags": []
   },
   "outputs": [
    {
     "data": {
      "text/plain": [
       "(20000, 17)"
      ]
     },
     "execution_count": 3,
     "metadata": {},
     "output_type": "execute_result"
    }
   ],
   "source": [
    "data.shape"
   ]
  },
  {
   "cell_type": "code",
   "execution_count": 4,
   "id": "1b8c0c9c",
   "metadata": {
    "execution": {
     "iopub.execute_input": "2023-06-16T16:42:48.301317Z",
     "iopub.status.busy": "2023-06-16T16:42:48.300931Z",
     "iopub.status.idle": "2023-06-16T16:42:48.309839Z",
     "shell.execute_reply": "2023-06-16T16:42:48.308618Z"
    },
    "papermill": {
     "duration": 0.023077,
     "end_time": "2023-06-16T16:42:48.312188",
     "exception": false,
     "start_time": "2023-06-16T16:42:48.289111",
     "status": "completed"
    },
    "tags": []
   },
   "outputs": [
    {
     "data": {
      "text/plain": [
       "letter    object\n",
       "xbox       int64\n",
       "ybox       int64\n",
       "width      int64\n",
       "height     int64\n",
       "onpix      int64\n",
       "xbar       int64\n",
       "ybar       int64\n",
       "x2bar      int64\n",
       "y2bar      int64\n",
       "xybar      int64\n",
       "x2ybar     int64\n",
       "xy2bar     int64\n",
       "xedge      int64\n",
       "xedgey     int64\n",
       "yedge      int64\n",
       "yedgex     int64\n",
       "dtype: object"
      ]
     },
     "execution_count": 4,
     "metadata": {},
     "output_type": "execute_result"
    }
   ],
   "source": [
    "data.dtypes"
   ]
  },
  {
   "cell_type": "code",
   "execution_count": 5,
   "id": "ac181fbe",
   "metadata": {
    "execution": {
     "iopub.execute_input": "2023-06-16T16:42:48.334694Z",
     "iopub.status.busy": "2023-06-16T16:42:48.334276Z",
     "iopub.status.idle": "2023-06-16T16:42:48.353621Z",
     "shell.execute_reply": "2023-06-16T16:42:48.352515Z"
    },
    "papermill": {
     "duration": 0.033356,
     "end_time": "2023-06-16T16:42:48.355915",
     "exception": false,
     "start_time": "2023-06-16T16:42:48.322559",
     "status": "completed"
    },
    "tags": []
   },
   "outputs": [
    {
     "data": {
      "text/plain": [
       "letter    0\n",
       "xbox      0\n",
       "ybox      0\n",
       "width     0\n",
       "height    0\n",
       "onpix     0\n",
       "xbar      0\n",
       "ybar      0\n",
       "x2bar     0\n",
       "y2bar     0\n",
       "xybar     0\n",
       "x2ybar    0\n",
       "xy2bar    0\n",
       "xedge     0\n",
       "xedgey    0\n",
       "yedge     0\n",
       "yedgex    0\n",
       "dtype: int64"
      ]
     },
     "execution_count": 5,
     "metadata": {},
     "output_type": "execute_result"
    }
   ],
   "source": [
    "data.isnull().sum()"
   ]
  },
  {
   "cell_type": "code",
   "execution_count": 6,
   "id": "d27f8a12",
   "metadata": {
    "execution": {
     "iopub.execute_input": "2023-06-16T16:42:48.379005Z",
     "iopub.status.busy": "2023-06-16T16:42:48.378538Z",
     "iopub.status.idle": "2023-06-16T16:42:48.403562Z",
     "shell.execute_reply": "2023-06-16T16:42:48.402485Z"
    },
    "papermill": {
     "duration": 0.039679,
     "end_time": "2023-06-16T16:42:48.406205",
     "exception": false,
     "start_time": "2023-06-16T16:42:48.366526",
     "status": "completed"
    },
    "tags": []
   },
   "outputs": [
    {
     "data": {
      "text/plain": [
       "1332"
      ]
     },
     "execution_count": 6,
     "metadata": {},
     "output_type": "execute_result"
    }
   ],
   "source": [
    "data.duplicated().sum()"
   ]
  },
  {
   "cell_type": "code",
   "execution_count": 7,
   "id": "ef70e537",
   "metadata": {
    "execution": {
     "iopub.execute_input": "2023-06-16T16:42:48.429681Z",
     "iopub.status.busy": "2023-06-16T16:42:48.429297Z",
     "iopub.status.idle": "2023-06-16T16:42:48.458358Z",
     "shell.execute_reply": "2023-06-16T16:42:48.457127Z"
    },
    "papermill": {
     "duration": 0.043981,
     "end_time": "2023-06-16T16:42:48.461095",
     "exception": false,
     "start_time": "2023-06-16T16:42:48.417114",
     "status": "completed"
    },
    "tags": []
   },
   "outputs": [
    {
     "name": "stdout",
     "output_type": "stream",
     "text": [
      "<class 'pandas.core.frame.DataFrame'>\n",
      "RangeIndex: 20000 entries, 0 to 19999\n",
      "Data columns (total 17 columns):\n",
      " #   Column  Non-Null Count  Dtype \n",
      "---  ------  --------------  ----- \n",
      " 0   letter  20000 non-null  object\n",
      " 1   xbox    20000 non-null  int64 \n",
      " 2   ybox    20000 non-null  int64 \n",
      " 3   width   20000 non-null  int64 \n",
      " 4   height  20000 non-null  int64 \n",
      " 5   onpix   20000 non-null  int64 \n",
      " 6   xbar    20000 non-null  int64 \n",
      " 7   ybar    20000 non-null  int64 \n",
      " 8   x2bar   20000 non-null  int64 \n",
      " 9   y2bar   20000 non-null  int64 \n",
      " 10  xybar   20000 non-null  int64 \n",
      " 11  x2ybar  20000 non-null  int64 \n",
      " 12  xy2bar  20000 non-null  int64 \n",
      " 13  xedge   20000 non-null  int64 \n",
      " 14  xedgey  20000 non-null  int64 \n",
      " 15  yedge   20000 non-null  int64 \n",
      " 16  yedgex  20000 non-null  int64 \n",
      "dtypes: int64(16), object(1)\n",
      "memory usage: 2.6+ MB\n"
     ]
    }
   ],
   "source": [
    "data.info()"
   ]
  },
  {
   "cell_type": "code",
   "execution_count": 8,
   "id": "cbd08c25",
   "metadata": {
    "execution": {
     "iopub.execute_input": "2023-06-16T16:42:48.484689Z",
     "iopub.status.busy": "2023-06-16T16:42:48.484294Z",
     "iopub.status.idle": "2023-06-16T16:42:48.504827Z",
     "shell.execute_reply": "2023-06-16T16:42:48.503514Z"
    },
    "papermill": {
     "duration": 0.035298,
     "end_time": "2023-06-16T16:42:48.507371",
     "exception": false,
     "start_time": "2023-06-16T16:42:48.472073",
     "status": "completed"
    },
    "tags": []
   },
   "outputs": [
    {
     "data": {
      "text/plain": [
       "array(['A', 'B', 'C', 'D', 'E', 'F', 'G', 'H', 'I', 'J', 'K', 'L', 'M',\n",
       "       'N', 'O', 'P', 'Q', 'R', 'S', 'T', 'U', 'V', 'W', 'X', 'Y', 'Z'],\n",
       "      dtype=object)"
      ]
     },
     "execution_count": 8,
     "metadata": {},
     "output_type": "execute_result"
    }
   ],
   "source": [
    "np.sort(data[data.duplicated()][\"letter\"].unique())"
   ]
  },
  {
   "cell_type": "code",
   "execution_count": 9,
   "id": "a787e78f",
   "metadata": {
    "execution": {
     "iopub.execute_input": "2023-06-16T16:42:48.532027Z",
     "iopub.status.busy": "2023-06-16T16:42:48.531606Z",
     "iopub.status.idle": "2023-06-16T16:42:48.551726Z",
     "shell.execute_reply": "2023-06-16T16:42:48.550818Z"
    },
    "papermill": {
     "duration": 0.035208,
     "end_time": "2023-06-16T16:42:48.554265",
     "exception": false,
     "start_time": "2023-06-16T16:42:48.519057",
     "status": "completed"
    },
    "tags": []
   },
   "outputs": [
    {
     "data": {
      "text/plain": [
       "I    231\n",
       "X    109\n",
       "N     95\n",
       "Z     94\n",
       "L     88\n",
       "M     60\n",
       "V     58\n",
       "T     48\n",
       "U     45\n",
       "D     45\n",
       "E     43\n",
       "Y     40\n",
       "B     36\n",
       "O     35\n",
       "A     33\n",
       "J     32\n",
       "G     30\n",
       "H     30\n",
       "C     26\n",
       "W     26\n",
       "Q     23\n",
       "F     23\n",
       "K     21\n",
       "P     21\n",
       "R     21\n",
       "S     19\n",
       "Name: letter, dtype: int64"
      ]
     },
     "execution_count": 9,
     "metadata": {},
     "output_type": "execute_result"
    }
   ],
   "source": [
    "data[data.duplicated()][\"letter\"].value_counts()"
   ]
  },
  {
   "cell_type": "markdown",
   "id": "dcf0c23c",
   "metadata": {
    "papermill": {
     "duration": 0.011041,
     "end_time": "2023-06-16T16:42:48.576357",
     "exception": false,
     "start_time": "2023-06-16T16:42:48.565316",
     "status": "completed"
    },
    "tags": []
   },
   "source": [
    "### Descripción del dataset:\n",
    "* #### Contiene 20000 filas/observaciones y 17 columnas/variables, una de las cuales es la variable objetivo (\"letter\").\n",
    "* #### La variable objetivo es categórica y las 16 restantes son numéricas.\n",
    "* #### No tiene valores nulos el dataset.\n",
    "* #### Tiene 1332 filas duplicadas. Para el análisis categórico de este dataset nos conviene tener observaciones duplicadas."
   ]
  },
  {
   "cell_type": "markdown",
   "id": "85cf37f1",
   "metadata": {
    "papermill": {
     "duration": 0.010822,
     "end_time": "2023-06-16T16:42:48.598241",
     "exception": false,
     "start_time": "2023-06-16T16:42:48.587419",
     "status": "completed"
    },
    "tags": []
   },
   "source": [
    "## Preprocesado de datos.\n",
    "* #### Se dividirán los datos en datos de entrenamiento y datos de prueba.\n",
    "* #### Se normalizarán las variables independientes numéricas."
   ]
  },
  {
   "cell_type": "code",
   "execution_count": 10,
   "id": "630e4001",
   "metadata": {
    "execution": {
     "iopub.execute_input": "2023-06-16T16:42:48.622977Z",
     "iopub.status.busy": "2023-06-16T16:42:48.622170Z",
     "iopub.status.idle": "2023-06-16T16:42:50.048066Z",
     "shell.execute_reply": "2023-06-16T16:42:50.046795Z"
    },
    "papermill": {
     "duration": 1.441563,
     "end_time": "2023-06-16T16:42:50.050967",
     "exception": false,
     "start_time": "2023-06-16T16:42:48.609404",
     "status": "completed"
    },
    "tags": []
   },
   "outputs": [],
   "source": [
    "from sklearn.model_selection import train_test_split"
   ]
  },
  {
   "cell_type": "code",
   "execution_count": 11,
   "id": "c0bb33b0",
   "metadata": {
    "execution": {
     "iopub.execute_input": "2023-06-16T16:42:50.075151Z",
     "iopub.status.busy": "2023-06-16T16:42:50.074723Z",
     "iopub.status.idle": "2023-06-16T16:42:50.095725Z",
     "shell.execute_reply": "2023-06-16T16:42:50.094533Z"
    },
    "papermill": {
     "duration": 0.036005,
     "end_time": "2023-06-16T16:42:50.098104",
     "exception": false,
     "start_time": "2023-06-16T16:42:50.062099",
     "status": "completed"
    },
    "tags": []
   },
   "outputs": [
    {
     "data": {
      "text/html": [
       "<div>\n",
       "<style scoped>\n",
       "    .dataframe tbody tr th:only-of-type {\n",
       "        vertical-align: middle;\n",
       "    }\n",
       "\n",
       "    .dataframe tbody tr th {\n",
       "        vertical-align: top;\n",
       "    }\n",
       "\n",
       "    .dataframe thead th {\n",
       "        text-align: right;\n",
       "    }\n",
       "</style>\n",
       "<table border=\"1\" class=\"dataframe\">\n",
       "  <thead>\n",
       "    <tr style=\"text-align: right;\">\n",
       "      <th></th>\n",
       "      <th>xbox</th>\n",
       "      <th>ybox</th>\n",
       "      <th>width</th>\n",
       "      <th>height</th>\n",
       "      <th>onpix</th>\n",
       "      <th>xbar</th>\n",
       "      <th>ybar</th>\n",
       "      <th>x2bar</th>\n",
       "      <th>y2bar</th>\n",
       "      <th>xybar</th>\n",
       "      <th>x2ybar</th>\n",
       "      <th>xy2bar</th>\n",
       "      <th>xedge</th>\n",
       "      <th>xedgey</th>\n",
       "      <th>yedge</th>\n",
       "      <th>yedgex</th>\n",
       "    </tr>\n",
       "  </thead>\n",
       "  <tbody>\n",
       "    <tr>\n",
       "      <th>0</th>\n",
       "      <td>2</td>\n",
       "      <td>8</td>\n",
       "      <td>3</td>\n",
       "      <td>5</td>\n",
       "      <td>1</td>\n",
       "      <td>8</td>\n",
       "      <td>13</td>\n",
       "      <td>0</td>\n",
       "      <td>6</td>\n",
       "      <td>6</td>\n",
       "      <td>10</td>\n",
       "      <td>8</td>\n",
       "      <td>0</td>\n",
       "      <td>8</td>\n",
       "      <td>0</td>\n",
       "      <td>8</td>\n",
       "    </tr>\n",
       "    <tr>\n",
       "      <th>1</th>\n",
       "      <td>5</td>\n",
       "      <td>12</td>\n",
       "      <td>3</td>\n",
       "      <td>7</td>\n",
       "      <td>2</td>\n",
       "      <td>10</td>\n",
       "      <td>5</td>\n",
       "      <td>5</td>\n",
       "      <td>4</td>\n",
       "      <td>13</td>\n",
       "      <td>3</td>\n",
       "      <td>9</td>\n",
       "      <td>2</td>\n",
       "      <td>8</td>\n",
       "      <td>4</td>\n",
       "      <td>10</td>\n",
       "    </tr>\n",
       "    <tr>\n",
       "      <th>2</th>\n",
       "      <td>4</td>\n",
       "      <td>11</td>\n",
       "      <td>6</td>\n",
       "      <td>8</td>\n",
       "      <td>6</td>\n",
       "      <td>10</td>\n",
       "      <td>6</td>\n",
       "      <td>2</td>\n",
       "      <td>6</td>\n",
       "      <td>10</td>\n",
       "      <td>3</td>\n",
       "      <td>7</td>\n",
       "      <td>3</td>\n",
       "      <td>7</td>\n",
       "      <td>3</td>\n",
       "      <td>9</td>\n",
       "    </tr>\n",
       "    <tr>\n",
       "      <th>3</th>\n",
       "      <td>7</td>\n",
       "      <td>11</td>\n",
       "      <td>6</td>\n",
       "      <td>6</td>\n",
       "      <td>3</td>\n",
       "      <td>5</td>\n",
       "      <td>9</td>\n",
       "      <td>4</td>\n",
       "      <td>6</td>\n",
       "      <td>4</td>\n",
       "      <td>4</td>\n",
       "      <td>10</td>\n",
       "      <td>6</td>\n",
       "      <td>10</td>\n",
       "      <td>2</td>\n",
       "      <td>8</td>\n",
       "    </tr>\n",
       "    <tr>\n",
       "      <th>4</th>\n",
       "      <td>2</td>\n",
       "      <td>1</td>\n",
       "      <td>3</td>\n",
       "      <td>1</td>\n",
       "      <td>1</td>\n",
       "      <td>8</td>\n",
       "      <td>6</td>\n",
       "      <td>6</td>\n",
       "      <td>6</td>\n",
       "      <td>6</td>\n",
       "      <td>5</td>\n",
       "      <td>9</td>\n",
       "      <td>1</td>\n",
       "      <td>7</td>\n",
       "      <td>5</td>\n",
       "      <td>10</td>\n",
       "    </tr>\n",
       "  </tbody>\n",
       "</table>\n",
       "</div>"
      ],
      "text/plain": [
       "   xbox   ybox   width   height  onpix   xbar   ybar   x2bar  y2bar   xybar   \\\n",
       "0      2      8       3       5       1      8     13      0       6       6   \n",
       "1      5     12       3       7       2     10      5      5       4      13   \n",
       "2      4     11       6       8       6     10      6      2       6      10   \n",
       "3      7     11       6       6       3      5      9      4       6       4   \n",
       "4      2      1       3       1       1      8      6      6       6       6   \n",
       "\n",
       "   x2ybar  xy2bar  xedge   xedgey  yedge   yedgex  \n",
       "0      10       8       0       8       0       8  \n",
       "1       3       9       2       8       4      10  \n",
       "2       3       7       3       7       3       9  \n",
       "3       4      10       6      10       2       8  \n",
       "4       5       9       1       7       5      10  "
      ]
     },
     "execution_count": 11,
     "metadata": {},
     "output_type": "execute_result"
    }
   ],
   "source": [
    "X = data.drop([\"letter\"], axis=1)\n",
    "Y = data[\"letter\"]\n",
    "X.head()"
   ]
  },
  {
   "cell_type": "code",
   "execution_count": 12,
   "id": "71cd15ec",
   "metadata": {
    "execution": {
     "iopub.execute_input": "2023-06-16T16:42:50.123282Z",
     "iopub.status.busy": "2023-06-16T16:42:50.122815Z",
     "iopub.status.idle": "2023-06-16T16:42:50.156211Z",
     "shell.execute_reply": "2023-06-16T16:42:50.154837Z"
    },
    "papermill": {
     "duration": 0.049238,
     "end_time": "2023-06-16T16:42:50.158691",
     "exception": false,
     "start_time": "2023-06-16T16:42:50.109453",
     "status": "completed"
    },
    "tags": []
   },
   "outputs": [
    {
     "data": {
      "text/html": [
       "<div>\n",
       "<style scoped>\n",
       "    .dataframe tbody tr th:only-of-type {\n",
       "        vertical-align: middle;\n",
       "    }\n",
       "\n",
       "    .dataframe tbody tr th {\n",
       "        vertical-align: top;\n",
       "    }\n",
       "\n",
       "    .dataframe thead th {\n",
       "        text-align: right;\n",
       "    }\n",
       "</style>\n",
       "<table border=\"1\" class=\"dataframe\">\n",
       "  <thead>\n",
       "    <tr style=\"text-align: right;\">\n",
       "      <th></th>\n",
       "      <th>xbox</th>\n",
       "      <th>ybox</th>\n",
       "      <th>width</th>\n",
       "      <th>height</th>\n",
       "      <th>onpix</th>\n",
       "      <th>xbar</th>\n",
       "      <th>ybar</th>\n",
       "      <th>x2bar</th>\n",
       "      <th>y2bar</th>\n",
       "      <th>xybar</th>\n",
       "      <th>x2ybar</th>\n",
       "      <th>xy2bar</th>\n",
       "      <th>xedge</th>\n",
       "      <th>xedgey</th>\n",
       "      <th>yedge</th>\n",
       "      <th>yedgex</th>\n",
       "    </tr>\n",
       "  </thead>\n",
       "  <tbody>\n",
       "    <tr>\n",
       "      <th>0</th>\n",
       "      <td>0.133333</td>\n",
       "      <td>0.533333</td>\n",
       "      <td>0.2</td>\n",
       "      <td>0.333333</td>\n",
       "      <td>0.066667</td>\n",
       "      <td>0.533333</td>\n",
       "      <td>0.866667</td>\n",
       "      <td>0.000000</td>\n",
       "      <td>0.400000</td>\n",
       "      <td>0.400000</td>\n",
       "      <td>0.666667</td>\n",
       "      <td>0.533333</td>\n",
       "      <td>0.000000</td>\n",
       "      <td>0.533333</td>\n",
       "      <td>0.000000</td>\n",
       "      <td>0.533333</td>\n",
       "    </tr>\n",
       "    <tr>\n",
       "      <th>1</th>\n",
       "      <td>0.333333</td>\n",
       "      <td>0.800000</td>\n",
       "      <td>0.2</td>\n",
       "      <td>0.466667</td>\n",
       "      <td>0.133333</td>\n",
       "      <td>0.666667</td>\n",
       "      <td>0.333333</td>\n",
       "      <td>0.333333</td>\n",
       "      <td>0.266667</td>\n",
       "      <td>0.866667</td>\n",
       "      <td>0.200000</td>\n",
       "      <td>0.600000</td>\n",
       "      <td>0.133333</td>\n",
       "      <td>0.533333</td>\n",
       "      <td>0.266667</td>\n",
       "      <td>0.666667</td>\n",
       "    </tr>\n",
       "    <tr>\n",
       "      <th>2</th>\n",
       "      <td>0.266667</td>\n",
       "      <td>0.733333</td>\n",
       "      <td>0.4</td>\n",
       "      <td>0.533333</td>\n",
       "      <td>0.400000</td>\n",
       "      <td>0.666667</td>\n",
       "      <td>0.400000</td>\n",
       "      <td>0.133333</td>\n",
       "      <td>0.400000</td>\n",
       "      <td>0.666667</td>\n",
       "      <td>0.200000</td>\n",
       "      <td>0.466667</td>\n",
       "      <td>0.200000</td>\n",
       "      <td>0.466667</td>\n",
       "      <td>0.200000</td>\n",
       "      <td>0.600000</td>\n",
       "    </tr>\n",
       "    <tr>\n",
       "      <th>3</th>\n",
       "      <td>0.466667</td>\n",
       "      <td>0.733333</td>\n",
       "      <td>0.4</td>\n",
       "      <td>0.400000</td>\n",
       "      <td>0.200000</td>\n",
       "      <td>0.333333</td>\n",
       "      <td>0.600000</td>\n",
       "      <td>0.266667</td>\n",
       "      <td>0.400000</td>\n",
       "      <td>0.266667</td>\n",
       "      <td>0.266667</td>\n",
       "      <td>0.666667</td>\n",
       "      <td>0.400000</td>\n",
       "      <td>0.666667</td>\n",
       "      <td>0.133333</td>\n",
       "      <td>0.533333</td>\n",
       "    </tr>\n",
       "    <tr>\n",
       "      <th>4</th>\n",
       "      <td>0.133333</td>\n",
       "      <td>0.066667</td>\n",
       "      <td>0.2</td>\n",
       "      <td>0.066667</td>\n",
       "      <td>0.066667</td>\n",
       "      <td>0.533333</td>\n",
       "      <td>0.400000</td>\n",
       "      <td>0.400000</td>\n",
       "      <td>0.400000</td>\n",
       "      <td>0.400000</td>\n",
       "      <td>0.333333</td>\n",
       "      <td>0.600000</td>\n",
       "      <td>0.066667</td>\n",
       "      <td>0.466667</td>\n",
       "      <td>0.333333</td>\n",
       "      <td>0.666667</td>\n",
       "    </tr>\n",
       "  </tbody>\n",
       "</table>\n",
       "</div>"
      ],
      "text/plain": [
       "      xbox      ybox   width     height    onpix      xbar      ybar   \\\n",
       "0  0.133333  0.533333     0.2  0.333333  0.066667  0.533333  0.866667   \n",
       "1  0.333333  0.800000     0.2  0.466667  0.133333  0.666667  0.333333   \n",
       "2  0.266667  0.733333     0.4  0.533333  0.400000  0.666667  0.400000   \n",
       "3  0.466667  0.733333     0.4  0.400000  0.200000  0.333333  0.600000   \n",
       "4  0.133333  0.066667     0.2  0.066667  0.066667  0.533333  0.400000   \n",
       "\n",
       "      x2bar    y2bar     xybar     x2ybar    xy2bar    xedge     xedgey  \\\n",
       "0  0.000000  0.400000  0.400000  0.666667  0.533333  0.000000  0.533333   \n",
       "1  0.333333  0.266667  0.866667  0.200000  0.600000  0.133333  0.533333   \n",
       "2  0.133333  0.400000  0.666667  0.200000  0.466667  0.200000  0.466667   \n",
       "3  0.266667  0.400000  0.266667  0.266667  0.666667  0.400000  0.666667   \n",
       "4  0.400000  0.400000  0.400000  0.333333  0.600000  0.066667  0.466667   \n",
       "\n",
       "     yedge     yedgex  \n",
       "0  0.000000  0.533333  \n",
       "1  0.266667  0.666667  \n",
       "2  0.200000  0.600000  \n",
       "3  0.133333  0.533333  \n",
       "4  0.333333  0.666667  "
      ]
     },
     "execution_count": 12,
     "metadata": {},
     "output_type": "execute_result"
    }
   ],
   "source": [
    "X = (X-X.min())/(X.max()-X.min())\n",
    "X.head()"
   ]
  },
  {
   "cell_type": "code",
   "execution_count": 13,
   "id": "7c4e2b56",
   "metadata": {
    "execution": {
     "iopub.execute_input": "2023-06-16T16:42:50.185172Z",
     "iopub.status.busy": "2023-06-16T16:42:50.184708Z",
     "iopub.status.idle": "2023-06-16T16:42:50.195866Z",
     "shell.execute_reply": "2023-06-16T16:42:50.194974Z"
    },
    "papermill": {
     "duration": 0.027129,
     "end_time": "2023-06-16T16:42:50.198305",
     "exception": false,
     "start_time": "2023-06-16T16:42:50.171176",
     "status": "completed"
    },
    "tags": []
   },
   "outputs": [],
   "source": [
    "x_train, x_test, y_train, y_test = train_test_split(X,Y, test_size=0.3, random_state=0)"
   ]
  },
  {
   "cell_type": "code",
   "execution_count": 14,
   "id": "3470ab77",
   "metadata": {
    "execution": {
     "iopub.execute_input": "2023-06-16T16:42:50.224535Z",
     "iopub.status.busy": "2023-06-16T16:42:50.223934Z",
     "iopub.status.idle": "2023-06-16T16:42:50.230745Z",
     "shell.execute_reply": "2023-06-16T16:42:50.229680Z"
    },
    "papermill": {
     "duration": 0.022923,
     "end_time": "2023-06-16T16:42:50.233004",
     "exception": false,
     "start_time": "2023-06-16T16:42:50.210081",
     "status": "completed"
    },
    "tags": []
   },
   "outputs": [
    {
     "data": {
      "text/plain": [
       "(14000, 6000, 14000, 6000)"
      ]
     },
     "execution_count": 14,
     "metadata": {},
     "output_type": "execute_result"
    }
   ],
   "source": [
    "len(x_train), len(x_test), len(y_train), len(y_test)"
   ]
  },
  {
   "cell_type": "markdown",
   "id": "56170ac4",
   "metadata": {
    "papermill": {
     "duration": 0.011949,
     "end_time": "2023-06-16T16:42:50.256890",
     "exception": false,
     "start_time": "2023-06-16T16:42:50.244941",
     "status": "completed"
    },
    "tags": []
   },
   "source": [
    "## Construcción del modelo. \n",
    "* #### Vamos a elegir los mejores parametros del modelado realizando una validación cruzada."
   ]
  },
  {
   "cell_type": "code",
   "execution_count": 15,
   "id": "88de578a",
   "metadata": {
    "execution": {
     "iopub.execute_input": "2023-06-16T16:42:50.283282Z",
     "iopub.status.busy": "2023-06-16T16:42:50.282645Z",
     "iopub.status.idle": "2023-06-16T16:42:50.383497Z",
     "shell.execute_reply": "2023-06-16T16:42:50.382210Z"
    },
    "papermill": {
     "duration": 0.117546,
     "end_time": "2023-06-16T16:42:50.386407",
     "exception": false,
     "start_time": "2023-06-16T16:42:50.268861",
     "status": "completed"
    },
    "tags": []
   },
   "outputs": [],
   "source": [
    "from sklearn import svm\n",
    "from sklearn.model_selection import GridSearchCV"
   ]
  },
  {
   "cell_type": "code",
   "execution_count": 16,
   "id": "6f4e74e0",
   "metadata": {
    "execution": {
     "iopub.execute_input": "2023-06-16T16:42:50.412436Z",
     "iopub.status.busy": "2023-06-16T16:42:50.412035Z",
     "iopub.status.idle": "2023-06-16T16:42:50.418505Z",
     "shell.execute_reply": "2023-06-16T16:42:50.417416Z"
    },
    "papermill": {
     "duration": 0.022223,
     "end_time": "2023-06-16T16:42:50.420727",
     "exception": false,
     "start_time": "2023-06-16T16:42:50.398504",
     "status": "completed"
    },
    "tags": []
   },
   "outputs": [],
   "source": [
    "parameters = [\n",
    "    {\n",
    "        \"kernel\": [\"rbf\"],\n",
    "        \"gamma\": [1e-4,1e-3,1e-2,0.1,0.2,0.5],\n",
    "        \"C\": [1,10,100,1000]\n",
    "    },\n",
    "    {\n",
    "        \"kernel\":[\"linear\"],\n",
    "        \"C\": [1,10,100,1000]\n",
    "    },\n",
    "    {\n",
    "        \"kernel\":[\"poly\"],\n",
    "        \"C\": [1,10,100,1000]\n",
    "    }\n",
    "]"
   ]
  },
  {
   "cell_type": "code",
   "execution_count": 17,
   "id": "e3f852e8",
   "metadata": {
    "execution": {
     "iopub.execute_input": "2023-06-16T16:42:50.446141Z",
     "iopub.status.busy": "2023-06-16T16:42:50.445704Z",
     "iopub.status.idle": "2023-06-16T16:58:08.037842Z",
     "shell.execute_reply": "2023-06-16T16:58:08.036722Z"
    },
    "papermill": {
     "duration": 917.620168,
     "end_time": "2023-06-16T16:58:08.052619",
     "exception": false,
     "start_time": "2023-06-16T16:42:50.432451",
     "status": "completed"
    },
    "tags": []
   },
   "outputs": [
    {
     "data": {
      "text/html": [
       "<style>#sk-container-id-1 {color: black;background-color: white;}#sk-container-id-1 pre{padding: 0;}#sk-container-id-1 div.sk-toggleable {background-color: white;}#sk-container-id-1 label.sk-toggleable__label {cursor: pointer;display: block;width: 100%;margin-bottom: 0;padding: 0.3em;box-sizing: border-box;text-align: center;}#sk-container-id-1 label.sk-toggleable__label-arrow:before {content: \"▸\";float: left;margin-right: 0.25em;color: #696969;}#sk-container-id-1 label.sk-toggleable__label-arrow:hover:before {color: black;}#sk-container-id-1 div.sk-estimator:hover label.sk-toggleable__label-arrow:before {color: black;}#sk-container-id-1 div.sk-toggleable__content {max-height: 0;max-width: 0;overflow: hidden;text-align: left;background-color: #f0f8ff;}#sk-container-id-1 div.sk-toggleable__content pre {margin: 0.2em;color: black;border-radius: 0.25em;background-color: #f0f8ff;}#sk-container-id-1 input.sk-toggleable__control:checked~div.sk-toggleable__content {max-height: 200px;max-width: 100%;overflow: auto;}#sk-container-id-1 input.sk-toggleable__control:checked~label.sk-toggleable__label-arrow:before {content: \"▾\";}#sk-container-id-1 div.sk-estimator input.sk-toggleable__control:checked~label.sk-toggleable__label {background-color: #d4ebff;}#sk-container-id-1 div.sk-label input.sk-toggleable__control:checked~label.sk-toggleable__label {background-color: #d4ebff;}#sk-container-id-1 input.sk-hidden--visually {border: 0;clip: rect(1px 1px 1px 1px);clip: rect(1px, 1px, 1px, 1px);height: 1px;margin: -1px;overflow: hidden;padding: 0;position: absolute;width: 1px;}#sk-container-id-1 div.sk-estimator {font-family: monospace;background-color: #f0f8ff;border: 1px dotted black;border-radius: 0.25em;box-sizing: border-box;margin-bottom: 0.5em;}#sk-container-id-1 div.sk-estimator:hover {background-color: #d4ebff;}#sk-container-id-1 div.sk-parallel-item::after {content: \"\";width: 100%;border-bottom: 1px solid gray;flex-grow: 1;}#sk-container-id-1 div.sk-label:hover label.sk-toggleable__label {background-color: #d4ebff;}#sk-container-id-1 div.sk-serial::before {content: \"\";position: absolute;border-left: 1px solid gray;box-sizing: border-box;top: 0;bottom: 0;left: 50%;z-index: 0;}#sk-container-id-1 div.sk-serial {display: flex;flex-direction: column;align-items: center;background-color: white;padding-right: 0.2em;padding-left: 0.2em;position: relative;}#sk-container-id-1 div.sk-item {position: relative;z-index: 1;}#sk-container-id-1 div.sk-parallel {display: flex;align-items: stretch;justify-content: center;background-color: white;position: relative;}#sk-container-id-1 div.sk-item::before, #sk-container-id-1 div.sk-parallel-item::before {content: \"\";position: absolute;border-left: 1px solid gray;box-sizing: border-box;top: 0;bottom: 0;left: 50%;z-index: -1;}#sk-container-id-1 div.sk-parallel-item {display: flex;flex-direction: column;z-index: 1;position: relative;background-color: white;}#sk-container-id-1 div.sk-parallel-item:first-child::after {align-self: flex-end;width: 50%;}#sk-container-id-1 div.sk-parallel-item:last-child::after {align-self: flex-start;width: 50%;}#sk-container-id-1 div.sk-parallel-item:only-child::after {width: 0;}#sk-container-id-1 div.sk-dashed-wrapped {border: 1px dashed gray;margin: 0 0.4em 0.5em 0.4em;box-sizing: border-box;padding-bottom: 0.4em;background-color: white;}#sk-container-id-1 div.sk-label label {font-family: monospace;font-weight: bold;display: inline-block;line-height: 1.2em;}#sk-container-id-1 div.sk-label-container {text-align: center;}#sk-container-id-1 div.sk-container {/* jupyter's `normalize.less` sets `[hidden] { display: none; }` but bootstrap.min.css set `[hidden] { display: none !important; }` so we also need the `!important` here to be able to override the default hidden behavior on the sphinx rendered scikit-learn.org. See: https://github.com/scikit-learn/scikit-learn/issues/21755 */display: inline-block !important;position: relative;}#sk-container-id-1 div.sk-text-repr-fallback {display: none;}</style><div id=\"sk-container-id-1\" class=\"sk-top-container\"><div class=\"sk-text-repr-fallback\"><pre>GridSearchCV(cv=5, estimator=SVC(),\n",
       "             param_grid=[{&#x27;C&#x27;: [1, 10, 100, 1000],\n",
       "                          &#x27;gamma&#x27;: [0.0001, 0.001, 0.01, 0.1, 0.2, 0.5],\n",
       "                          &#x27;kernel&#x27;: [&#x27;rbf&#x27;]},\n",
       "                         {&#x27;C&#x27;: [1, 10, 100, 1000], &#x27;kernel&#x27;: [&#x27;linear&#x27;]},\n",
       "                         {&#x27;C&#x27;: [1, 10, 100, 1000], &#x27;kernel&#x27;: [&#x27;poly&#x27;]}])</pre><b>In a Jupyter environment, please rerun this cell to show the HTML representation or trust the notebook. <br />On GitHub, the HTML representation is unable to render, please try loading this page with nbviewer.org.</b></div><div class=\"sk-container\" hidden><div class=\"sk-item sk-dashed-wrapped\"><div class=\"sk-label-container\"><div class=\"sk-label sk-toggleable\"><input class=\"sk-toggleable__control sk-hidden--visually\" id=\"sk-estimator-id-1\" type=\"checkbox\" ><label for=\"sk-estimator-id-1\" class=\"sk-toggleable__label sk-toggleable__label-arrow\">GridSearchCV</label><div class=\"sk-toggleable__content\"><pre>GridSearchCV(cv=5, estimator=SVC(),\n",
       "             param_grid=[{&#x27;C&#x27;: [1, 10, 100, 1000],\n",
       "                          &#x27;gamma&#x27;: [0.0001, 0.001, 0.01, 0.1, 0.2, 0.5],\n",
       "                          &#x27;kernel&#x27;: [&#x27;rbf&#x27;]},\n",
       "                         {&#x27;C&#x27;: [1, 10, 100, 1000], &#x27;kernel&#x27;: [&#x27;linear&#x27;]},\n",
       "                         {&#x27;C&#x27;: [1, 10, 100, 1000], &#x27;kernel&#x27;: [&#x27;poly&#x27;]}])</pre></div></div></div><div class=\"sk-parallel\"><div class=\"sk-parallel-item\"><div class=\"sk-item\"><div class=\"sk-label-container\"><div class=\"sk-label sk-toggleable\"><input class=\"sk-toggleable__control sk-hidden--visually\" id=\"sk-estimator-id-2\" type=\"checkbox\" ><label for=\"sk-estimator-id-2\" class=\"sk-toggleable__label sk-toggleable__label-arrow\">estimator: SVC</label><div class=\"sk-toggleable__content\"><pre>SVC()</pre></div></div></div><div class=\"sk-serial\"><div class=\"sk-item\"><div class=\"sk-estimator sk-toggleable\"><input class=\"sk-toggleable__control sk-hidden--visually\" id=\"sk-estimator-id-3\" type=\"checkbox\" ><label for=\"sk-estimator-id-3\" class=\"sk-toggleable__label sk-toggleable__label-arrow\">SVC</label><div class=\"sk-toggleable__content\"><pre>SVC()</pre></div></div></div></div></div></div></div></div></div></div>"
      ],
      "text/plain": [
       "GridSearchCV(cv=5, estimator=SVC(),\n",
       "             param_grid=[{'C': [1, 10, 100, 1000],\n",
       "                          'gamma': [0.0001, 0.001, 0.01, 0.1, 0.2, 0.5],\n",
       "                          'kernel': ['rbf']},\n",
       "                         {'C': [1, 10, 100, 1000], 'kernel': ['linear']},\n",
       "                         {'C': [1, 10, 100, 1000], 'kernel': ['poly']}])"
      ]
     },
     "execution_count": 17,
     "metadata": {},
     "output_type": "execute_result"
    }
   ],
   "source": [
    "clf = GridSearchCV(svm.SVC(decision_function_shape=\"ovr\"),\n",
    "                  param_grid=parameters, cv=5)\n",
    "clf.fit(x_train, y_train)"
   ]
  },
  {
   "cell_type": "code",
   "execution_count": 18,
   "id": "790a155b",
   "metadata": {
    "execution": {
     "iopub.execute_input": "2023-06-16T16:58:08.078629Z",
     "iopub.status.busy": "2023-06-16T16:58:08.078212Z",
     "iopub.status.idle": "2023-06-16T16:58:08.085252Z",
     "shell.execute_reply": "2023-06-16T16:58:08.084190Z"
    },
    "papermill": {
     "duration": 0.0228,
     "end_time": "2023-06-16T16:58:08.087595",
     "exception": false,
     "start_time": "2023-06-16T16:58:08.064795",
     "status": "completed"
    },
    "tags": []
   },
   "outputs": [
    {
     "data": {
      "text/plain": [
       "{'C': 1000, 'gamma': 0.5, 'kernel': 'rbf'}"
      ]
     },
     "execution_count": 18,
     "metadata": {},
     "output_type": "execute_result"
    }
   ],
   "source": [
    "clf.best_params_"
   ]
  },
  {
   "cell_type": "code",
   "execution_count": 19,
   "id": "2e7393c9",
   "metadata": {
    "execution": {
     "iopub.execute_input": "2023-06-16T16:58:08.113977Z",
     "iopub.status.busy": "2023-06-16T16:58:08.113565Z",
     "iopub.status.idle": "2023-06-16T16:58:10.577053Z",
     "shell.execute_reply": "2023-06-16T16:58:10.575709Z"
    },
    "papermill": {
     "duration": 2.479972,
     "end_time": "2023-06-16T16:58:10.579858",
     "exception": false,
     "start_time": "2023-06-16T16:58:08.099886",
     "status": "completed"
    },
    "tags": []
   },
   "outputs": [],
   "source": [
    "y_pred = clf.predict(x_test)"
   ]
  },
  {
   "cell_type": "code",
   "execution_count": 20,
   "id": "f9fa5c79",
   "metadata": {
    "execution": {
     "iopub.execute_input": "2023-06-16T16:58:10.606610Z",
     "iopub.status.busy": "2023-06-16T16:58:10.606189Z",
     "iopub.status.idle": "2023-06-16T16:58:10.613739Z",
     "shell.execute_reply": "2023-06-16T16:58:10.612223Z"
    },
    "papermill": {
     "duration": 0.023932,
     "end_time": "2023-06-16T16:58:10.616145",
     "exception": false,
     "start_time": "2023-06-16T16:58:10.592213",
     "status": "completed"
    },
    "tags": []
   },
   "outputs": [
    {
     "data": {
      "text/plain": [
       "array(['Y', 'B', 'K', ..., 'M', 'J', 'M'], dtype=object)"
      ]
     },
     "execution_count": 20,
     "metadata": {},
     "output_type": "execute_result"
    }
   ],
   "source": [
    "y_pred"
   ]
  },
  {
   "cell_type": "markdown",
   "id": "4adc26e7",
   "metadata": {
    "papermill": {
     "duration": 0.01257,
     "end_time": "2023-06-16T16:58:10.641926",
     "exception": false,
     "start_time": "2023-06-16T16:58:10.629356",
     "status": "completed"
    },
    "tags": []
   },
   "source": [
    "* #### Los mejores parametros para support vector machine son kernel radial basis function, C=1000 y gamma=0.5.\n",
    "* #### De todas maneras esta validación ha tardado bastante tiempo ya que el dataset es muy grande. El svm es conveniente para datasets pequeños y mejor si tiene mayor cantidad de rasgos que de observaciones. Pero a proposito de aprender y practicar SVM es que opto por utilizar SVM para modelar."
   ]
  },
  {
   "cell_type": "markdown",
   "id": "e61f689e",
   "metadata": {
    "papermill": {
     "duration": 0.012112,
     "end_time": "2023-06-16T16:58:10.666954",
     "exception": false,
     "start_time": "2023-06-16T16:58:10.654842",
     "status": "completed"
    },
    "tags": []
   },
   "source": [
    "## Evaluación del modelo."
   ]
  },
  {
   "cell_type": "code",
   "execution_count": 21,
   "id": "5f65fbbd",
   "metadata": {
    "execution": {
     "iopub.execute_input": "2023-06-16T16:58:10.695201Z",
     "iopub.status.busy": "2023-06-16T16:58:10.694223Z",
     "iopub.status.idle": "2023-06-16T16:58:11.044735Z",
     "shell.execute_reply": "2023-06-16T16:58:11.043744Z"
    },
    "papermill": {
     "duration": 0.367932,
     "end_time": "2023-06-16T16:58:11.047470",
     "exception": false,
     "start_time": "2023-06-16T16:58:10.679538",
     "status": "completed"
    },
    "tags": []
   },
   "outputs": [],
   "source": [
    "from sklearn.metrics import classification_report\n",
    "from sklearn.metrics import confusion_matrix\n",
    "import seaborn as sns\n",
    "import matplotlib.pyplot as plt"
   ]
  },
  {
   "cell_type": "code",
   "execution_count": 22,
   "id": "8f2e02b2",
   "metadata": {
    "execution": {
     "iopub.execute_input": "2023-06-16T16:58:11.074929Z",
     "iopub.status.busy": "2023-06-16T16:58:11.074123Z",
     "iopub.status.idle": "2023-06-16T16:58:11.417426Z",
     "shell.execute_reply": "2023-06-16T16:58:11.416289Z"
    },
    "papermill": {
     "duration": 0.360332,
     "end_time": "2023-06-16T16:58:11.420387",
     "exception": false,
     "start_time": "2023-06-16T16:58:11.060055",
     "status": "completed"
    },
    "tags": []
   },
   "outputs": [
    {
     "name": "stdout",
     "output_type": "stream",
     "text": [
      "              precision    recall  f1-score   support\n",
      "\n",
      "           A       0.99      0.99      0.99       216\n",
      "           B       0.93      0.94      0.94       239\n",
      "           C       0.95      0.97      0.96       229\n",
      "           D       0.93      0.96      0.95       248\n",
      "           E       0.92      0.93      0.93       221\n",
      "           F       0.96      0.96      0.96       246\n",
      "           G       0.95      0.92      0.93       256\n",
      "           H       0.89      0.95      0.92       202\n",
      "           I       0.98      0.96      0.97       218\n",
      "           J       0.97      0.95      0.96       233\n",
      "           K       0.92      0.95      0.93       207\n",
      "           L       0.98      0.98      0.98       231\n",
      "           M       0.99      0.99      0.99       251\n",
      "           N       0.97      0.98      0.98       223\n",
      "           O       0.97      0.95      0.96       226\n",
      "           P       0.97      0.96      0.96       249\n",
      "           Q       0.98      0.96      0.97       215\n",
      "           R       0.94      0.94      0.94       234\n",
      "           S       0.98      0.99      0.98       222\n",
      "           T       0.97      0.95      0.96       237\n",
      "           U       0.98      0.98      0.98       241\n",
      "           V       0.97      0.95      0.96       247\n",
      "           W       0.98      0.99      0.98       215\n",
      "           X       0.98      0.97      0.98       245\n",
      "           Y       0.98      0.97      0.97       238\n",
      "           Z       0.98      0.98      0.98       211\n",
      "\n",
      "    accuracy                           0.96      6000\n",
      "   macro avg       0.96      0.96      0.96      6000\n",
      "weighted avg       0.96      0.96      0.96      6000\n",
      "\n"
     ]
    }
   ],
   "source": [
    "print(classification_report(y_test, y_pred))"
   ]
  },
  {
   "cell_type": "code",
   "execution_count": 23,
   "id": "a433a3a2",
   "metadata": {
    "execution": {
     "iopub.execute_input": "2023-06-16T16:58:11.447906Z",
     "iopub.status.busy": "2023-06-16T16:58:11.446907Z",
     "iopub.status.idle": "2023-06-16T16:58:11.490575Z",
     "shell.execute_reply": "2023-06-16T16:58:11.489466Z"
    },
    "papermill": {
     "duration": 0.060529,
     "end_time": "2023-06-16T16:58:11.493479",
     "exception": false,
     "start_time": "2023-06-16T16:58:11.432950",
     "status": "completed"
    },
    "tags": []
   },
   "outputs": [],
   "source": [
    "mat = confusion_matrix(y_test, y_pred)"
   ]
  },
  {
   "cell_type": "code",
   "execution_count": 24,
   "id": "b04d81b1",
   "metadata": {
    "execution": {
     "iopub.execute_input": "2023-06-16T16:58:11.521142Z",
     "iopub.status.busy": "2023-06-16T16:58:11.520669Z",
     "iopub.status.idle": "2023-06-16T16:58:13.959054Z",
     "shell.execute_reply": "2023-06-16T16:58:13.958140Z"
    },
    "papermill": {
     "duration": 2.455186,
     "end_time": "2023-06-16T16:58:13.961354",
     "exception": false,
     "start_time": "2023-06-16T16:58:11.506168",
     "status": "completed"
    },
    "tags": []
   },
   "outputs": [
    {
     "data": {
      "text/plain": [
       "<Axes: >"
      ]
     },
     "execution_count": 24,
     "metadata": {},
     "output_type": "execute_result"
    },
    {
     "data": {
      "image/png": "[encoded data removed]",
      "text/plain": [
       "<Figure size 1200x1200 with 2 Axes>"
      ]
     },
     "metadata": {},
     "output_type": "display_data"
    }
   ],
   "source": [
    "plt.figure(figsize=(12,12))\n",
    "sns.heatmap(mat.T, square=True, annot=True, fmt=\"d\",\n",
    "           cbar=True,xticklabels=np.sort(y_test.unique()),\n",
    "           yticklabels=np.sort(y_test.unique()))"
   ]
  }
 ],
 "metadata": {
  "kernelspec": {
   "display_name": "Python 3",
   "language": "python",
   "name": "python3"
  },
  "language_info": {
   "codemirror_mode": {
    "name": "ipython",
    "version": 3
   },
   "file_extension": ".py",
   "mimetype": "text/x-python",
   "name": "python",
   "nbconvert_exporter": "python",
   "pygments_lexer": "ipython3",
   "version": "3.10.10"
  },
  "papermill": {
   "default_parameters": {},
   "duration": 939.053674,
   "end_time": "2023-06-16T16:58:15.101424",
   "environment_variables": {},
   "exception": null,
   "input_path": "__notebook__.ipynb",
   "output_path": "__notebook__.ipynb",
   "parameters": {},
   "start_time": "2023-06-16T16:42:36.047750",
   "version": "2.4.0"
  }
 },
 "nbformat": 4,
 "nbformat_minor": 5
}
